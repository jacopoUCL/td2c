{
 "cells": [
  {
   "cell_type": "code",
   "execution_count": 65,
   "metadata": {},
   "outputs": [],
   "source": [
    "import pickle\n",
    "import os\n",
    "import pandas as pd\n",
    "from tqdm import tqdm\n",
    "import numpy as np\n",
    "\n",
    "from sklearn.metrics import accuracy_score, f1_score, precision_score, recall_score, balanced_accuracy_score\n",
    "\n",
    "from d2c.benchmark import D2CWrapper\n",
    "\n",
    "from d2c.descriptors.loader import DataLoader\n",
    "\n",
    "from sklearn.ensemble import RandomForestClassifier\n",
    "from imblearn.ensemble import BalancedRandomForestClassifier\n"
   ]
  },
  {
   "cell_type": "code",
   "execution_count": 66,
   "metadata": {},
   "outputs": [
    {
     "name": "stderr",
     "output_type": "stream",
     "text": [
      "/home/jpalombarini/td2c/myenv/lib/python3.7/site-packages/sklearn/base.py:315: UserWarning: Trying to unpickle estimator DecisionTreeClassifier from version 1.3.2 when using version 0.24.2. This might lead to breaking code or invalid results. Use at your own risk.\n",
      "  UserWarning)\n"
     ]
    }
   ],
   "source": [
    "with open('/home/jpalombarini/td2c/notebooks/contributions/Real_data_validation/model (2).pkl', 'rb') as f:\n",
    "    model = pickle.load(f)"
   ]
  },
  {
   "cell_type": "markdown",
   "metadata": {},
   "source": [
    "CHOOSE THE BEST WAY TO LOAD THE DATASETS"
   ]
  },
  {
   "cell_type": "code",
   "execution_count": 132,
   "metadata": {},
   "outputs": [],
   "source": [
    "# immport numpy\n",
    "def load_data(filepath):\n",
    "    data = np.loadtxt(filepath)\n",
    "    return data\n",
    "\n",
    "names = ['ex.txt', 'ex copy.txt', 'ex copy 2.txt']\n",
    "ts_list = [load_data(os.path.join('/home/jpalombarini/td2c/notebooks/contributions/Real_data_validation/useful_data', name)) for name in names]"
   ]
  },
  {
   "cell_type": "code",
   "execution_count": 68,
   "metadata": {},
   "outputs": [],
   "source": [
    "#import pandas\n",
    "\n",
    "def load_data(filepath):\n",
    "    data = pd.read_csv(filepath, delimiter=',', header=None).values\n",
    "    return data\n",
    "\n",
    "# Example usage\n",
    "names = ['preprocessed_1.txt', 'preprocessed_2.txt']\n",
    "ts_list = [load_data(os.path.join('/home/jpalombarini/td2c/notebooks/contributions/Real_data_validation/useful_data', name)) for name in names]\n"
   ]
  },
  {
   "cell_type": "code",
   "execution_count": 133,
   "metadata": {},
   "outputs": [
    {
     "data": {
      "text/plain": [
       "((1225, 48), (1225, 48), (1225, 48))"
      ]
     },
     "execution_count": 133,
     "metadata": {},
     "output_type": "execute_result"
    }
   ],
   "source": [
    "ts_list[0].shape, ts_list[1].shape, ts_list[2].shape"
   ]
  },
  {
   "cell_type": "code",
   "execution_count": 127,
   "metadata": {},
   "outputs": [],
   "source": [
    "def inspect_data(data):\n",
    "    for i, col in enumerate(data.T):\n",
    "        unique_values = np.unique(col)\n",
    "        if len(unique_values) == 1:\n",
    "            print(f\"Column {i} is constant with value {unique_values[0]}.\")\n",
    "        elif len(unique_values) == 0:\n",
    "            print(f\"Column {i} is empty.\")\n",
    "\n",
    "for ts in ts_list:\n",
    "    inspect_data(ts)"
   ]
  },
  {
   "cell_type": "code",
   "execution_count": 102,
   "metadata": {},
   "outputs": [],
   "source": [
    "# remove first row of each ts\n",
    "ts_list = [ts[1:] for ts in ts_list]"
   ]
  },
  {
   "cell_type": "code",
   "execution_count": 103,
   "metadata": {},
   "outputs": [],
   "source": [
    "# convert to numeric each ts\n",
    "ts_list = [ts.astype(float) for ts in ts_list]\n",
    "\n",
    "# remove rows with NaNs\n",
    "ts_list = [ts[~np.isnan(ts).any(axis=1)] for ts in ts_list]\n",
    "\n",
    "# remove columns with empty values\n",
    "ts_list = [ts[:, ~np.all(np.isnan(ts), axis=0)] for ts in ts_list]"
   ]
  },
  {
   "cell_type": "code",
   "execution_count": 105,
   "metadata": {},
   "outputs": [
    {
     "data": {
      "text/plain": [
       "(0, 0)"
      ]
     },
     "execution_count": 105,
     "metadata": {},
     "output_type": "execute_result"
    }
   ],
   "source": [
    "ts_list[0].shape, ts_list[1].shape"
   ]
  },
  {
   "cell_type": "code",
   "execution_count": 134,
   "metadata": {},
   "outputs": [
    {
     "name": "stdout",
     "output_type": "stream",
     "text": [
      "Inspecting time series 1:\n",
      "float64\n",
      "[[ 0.5  1.2  0.3 -0.4  2.1  0.9  0.5  1.2  0.3 -0.4  2.1  0.9  0.5  1.2\n",
      "   0.3 -0.4  2.1  0.9  0.5  1.2  0.3 -0.4  2.1  0.9  0.5  1.2  0.3 -0.4\n",
      "   2.1  0.9  0.5  1.2  0.3 -0.4  2.1  0.9  0.5  1.2  0.3 -0.4  2.1  0.9\n",
      "   0.5  1.2  0.3 -0.4  2.1  0.9]\n",
      " [ 0.6  1.1  0.5 -0.3  2.3  1.   0.6  1.1  0.5 -0.3  2.3  1.   0.6  1.1\n",
      "   0.5 -0.3  2.3  1.   0.6  1.1  0.5 -0.3  2.3  1.   0.6  1.1  0.5 -0.3\n",
      "   2.3  1.   0.6  1.1  0.5 -0.3  2.3  1.   0.6  1.1  0.5 -0.3  2.3  1.\n",
      "   0.6  1.1  0.5 -0.3  2.3  1. ]\n",
      " [ 0.4  1.3  0.4 -0.5  2.   0.8  0.4  1.3  0.4 -0.5  2.   0.8  0.4  1.3\n",
      "   0.4 -0.5  2.   0.8  0.4  1.3  0.4 -0.5  2.   0.8  0.4  1.3  0.4 -0.5\n",
      "   2.   0.8  0.4  1.3  0.4 -0.5  2.   0.8  0.4  1.3  0.4 -0.5  2.   0.8\n",
      "   0.4  1.3  0.4 -0.5  2.   0.8]\n",
      " [ 0.7  1.   0.6 -0.2  2.2  0.9  0.7  1.   0.6 -0.2  2.2  0.9  0.7  1.\n",
      "   0.6 -0.2  2.2  0.9  0.7  1.   0.6 -0.2  2.2  0.9  0.7  1.   0.6 -0.2\n",
      "   2.2  0.9  0.7  1.   0.6 -0.2  2.2  0.9  0.7  1.   0.6 -0.2  2.2  0.9\n",
      "   0.7  1.   0.6 -0.2  2.2  0.9]\n",
      " [ 0.5  1.2  0.3 -0.4  2.1  0.9  0.5  1.2  0.3 -0.4  2.1  0.9  0.5  1.2\n",
      "   0.3 -0.4  2.1  0.9  0.5  1.2  0.3 -0.4  2.1  0.9  0.5  1.2  0.3 -0.4\n",
      "   2.1  0.9  0.5  1.2  0.3 -0.4  2.1  0.9  0.5  1.2  0.3 -0.4  2.1  0.9\n",
      "   0.5  1.2  0.3 -0.4  2.1  0.9]]\n",
      "Inspecting time series 2:\n",
      "float64\n",
      "[[ 0.5  1.2  0.3 -0.4  2.1  0.9  0.5  1.2  0.3 -0.4  2.1  0.9  0.5  1.2\n",
      "   0.3 -0.4  2.1  0.9  0.5  1.2  0.3 -0.4  2.1  0.9  0.5  1.2  0.3 -0.4\n",
      "   2.1  0.9  0.5  1.2  0.3 -0.4  2.1  0.9  0.5  1.2  0.3 -0.4  2.1  0.9\n",
      "   0.5  1.2  0.3 -0.4  2.1  0.9]\n",
      " [ 0.6  1.1  0.5 -0.3  2.3  1.   0.6  1.1  0.5 -0.3  2.3  1.   0.6  1.1\n",
      "   0.5 -0.3  2.3  1.   0.6  1.1  0.5 -0.3  2.3  1.   0.6  1.1  0.5 -0.3\n",
      "   2.3  1.   0.6  1.1  0.5 -0.3  2.3  1.   0.6  1.1  0.5 -0.3  2.3  1.\n",
      "   0.6  1.1  0.5 -0.3  2.3  1. ]\n",
      " [ 0.4  1.3  0.4 -0.5  2.   0.8  0.4  1.3  0.4 -0.5  2.   0.8  0.4  1.3\n",
      "   0.4 -0.5  2.   0.8  0.4  1.3  0.4 -0.5  2.   0.8  0.4  1.3  0.4 -0.5\n",
      "   2.   0.8  0.4  1.3  0.4 -0.5  2.   0.8  0.4  1.3  0.4 -0.5  2.   0.8\n",
      "   0.4  1.3  0.4 -0.5  2.   0.8]\n",
      " [ 0.7  1.   0.6 -0.2  2.2  0.9  0.7  1.   0.6 -0.2  2.2  0.9  0.7  1.\n",
      "   0.6 -0.2  2.2  0.9  0.7  1.   0.6 -0.2  2.2  0.9  0.7  1.   0.6 -0.2\n",
      "   2.2  0.9  0.7  1.   0.6 -0.2  2.2  0.9  0.7  1.   0.6 -0.2  2.2  0.9\n",
      "   0.7  1.   0.6 -0.2  2.2  0.9]\n",
      " [ 0.5  1.2  0.3 -0.4  2.1  0.9  0.5  1.2  0.3 -0.4  2.1  0.9  0.5  1.2\n",
      "   0.3 -0.4  2.1  0.9  0.5  1.2  0.3 -0.4  2.1  0.9  0.5  1.2  0.3 -0.4\n",
      "   2.1  0.9  0.5  1.2  0.3 -0.4  2.1  0.9  0.5  1.2  0.3 -0.4  2.1  0.9\n",
      "   0.5  1.2  0.3 -0.4  2.1  0.9]]\n",
      "Inspecting time series 3:\n",
      "float64\n",
      "[[ 0.5  1.2  0.3 -0.4  2.1  0.9  0.5  1.2  0.3 -0.4  2.1  0.9  0.5  1.2\n",
      "   0.3 -0.4  2.1  0.9  0.5  1.2  0.3 -0.4  2.1  0.9  0.5  1.2  0.3 -0.4\n",
      "   2.1  0.9  0.5  1.2  0.3 -0.4  2.1  0.9  0.5  1.2  0.3 -0.4  2.1  0.9\n",
      "   0.5  1.2  0.3 -0.4  2.1  0.9]\n",
      " [ 0.6  1.1  0.5 -0.3  2.3  1.   0.6  1.1  0.5 -0.3  2.3  1.   0.6  1.1\n",
      "   0.5 -0.3  2.3  1.   0.6  1.1  0.5 -0.3  2.3  1.   0.6  1.1  0.5 -0.3\n",
      "   2.3  1.   0.6  1.1  0.5 -0.3  2.3  1.   0.6  1.1  0.5 -0.3  2.3  1.\n",
      "   0.6  1.1  0.5 -0.3  2.3  1. ]\n",
      " [ 0.4  1.3  0.4 -0.5  2.   0.8  0.4  1.3  0.4 -0.5  2.   0.8  0.4  1.3\n",
      "   0.4 -0.5  2.   0.8  0.4  1.3  0.4 -0.5  2.   0.8  0.4  1.3  0.4 -0.5\n",
      "   2.   0.8  0.4  1.3  0.4 -0.5  2.   0.8  0.4  1.3  0.4 -0.5  2.   0.8\n",
      "   0.4  1.3  0.4 -0.5  2.   0.8]\n",
      " [ 0.7  1.   0.6 -0.2  2.2  0.9  0.7  1.   0.6 -0.2  2.2  0.9  0.7  1.\n",
      "   0.6 -0.2  2.2  0.9  0.7  1.   0.6 -0.2  2.2  0.9  0.7  1.   0.6 -0.2\n",
      "   2.2  0.9  0.7  1.   0.6 -0.2  2.2  0.9  0.7  1.   0.6 -0.2  2.2  0.9\n",
      "   0.7  1.   0.6 -0.2  2.2  0.9]\n",
      " [ 0.5  1.2  0.3 -0.4  2.1  0.9  0.5  1.2  0.3 -0.4  2.1  0.9  0.5  1.2\n",
      "   0.3 -0.4  2.1  0.9  0.5  1.2  0.3 -0.4  2.1  0.9  0.5  1.2  0.3 -0.4\n",
      "   2.1  0.9  0.5  1.2  0.3 -0.4  2.1  0.9  0.5  1.2  0.3 -0.4  2.1  0.9\n",
      "   0.5  1.2  0.3 -0.4  2.1  0.9]]\n"
     ]
    }
   ],
   "source": [
    "for i, ts in enumerate(ts_list):\n",
    "    print(f\"Inspecting time series {i+1}:\")\n",
    "    print(ts.dtype)  # Check the data type of the array\n",
    "    print(ts[:5])  # Print the first few rows to inspect"
   ]
  },
  {
   "cell_type": "code",
   "execution_count": 114,
   "metadata": {},
   "outputs": [],
   "source": [
    "def check_std(data):\n",
    "    for i, col in enumerate(data.T):\n",
    "        if np.std(col) == 0:\n",
    "            print(f\"Warning: Column {i} has zero standard deviation.\")\n",
    "\n",
    "for ts in ts_list:\n",
    "    check_std(ts)\n"
   ]
  },
  {
   "cell_type": "code",
   "execution_count": 115,
   "metadata": {},
   "outputs": [],
   "source": [
    "def normalize_data(data):\n",
    "    std_dev = np.std(data, axis=0)\n",
    "    # Avoid division by zero\n",
    "    std_dev[std_dev == 0] = 1\n",
    "    return (data - np.mean(data, axis=0)) / std_dev\n",
    "\n",
    "# Apply this normalization before passing the data to the model\n",
    "ts_list = [normalize_data(ts) for ts in ts_list]"
   ]
  },
  {
   "cell_type": "code",
   "execution_count": 135,
   "metadata": {},
   "outputs": [
    {
     "name": "stdout",
     "output_type": "stream",
     "text": [
      "ex.txt (1225, 48)\n",
      "ex copy.txt (1225, 48)\n",
      "ex copy 2.txt (1225, 48)\n"
     ]
    }
   ],
   "source": [
    "ts_dict = dict(zip(names, ts_list))\n",
    "for key, value in ts_dict.items():\n",
    "    print(key, value.shape)\n",
    "\n",
    "# save first dim of each ts in a list named 'maxlags'\n",
    "maxlags = [ts.shape[0] for ts in ts_list]\n",
    "\n",
    "# save second dim of each ts in a list named 'n_variables'\n",
    "n_variables = [ts.shape[1] for ts in ts_list]\n"
   ]
  },
  {
   "cell_type": "code",
   "execution_count": 136,
   "metadata": {},
   "outputs": [],
   "source": [
    "d2cwrapper = D2CWrapper(ts_list=ts_list, \n",
    "                        n_variables=n_variables[0], \n",
    "                        model=model, \n",
    "                        maxlags=maxlags[0], \n",
    "                        n_jobs=1, \n",
    "                        full=True, \n",
    "                        quantiles=True,\n",
    "                        filename='d2c_results',\n",
    "                        normalize=True, \n",
    "                        cmi='original', \n",
    "                        mb_estimator='original')\n",
    "\n"
   ]
  },
  {
   "cell_type": "code",
   "execution_count": 138,
   "metadata": {},
   "outputs": [
    {
     "ename": "ValueError",
     "evalue": "x and y must have length at least 2.",
     "output_type": "error",
     "traceback": [
      "\u001b[0;31m---------------------------------------------------------------------------\u001b[0m",
      "\u001b[0;31mValueError\u001b[0m                                Traceback (most recent call last)",
      "\u001b[0;32m/tmp/ipykernel_9055/3856829596.py\u001b[0m in \u001b[0;36m<module>\u001b[0;34m\u001b[0m\n\u001b[0;32m----> 1\u001b[0;31m \u001b[0md2cwrapper\u001b[0m\u001b[0;34m.\u001b[0m\u001b[0mrun\u001b[0m\u001b[0;34m(\u001b[0m\u001b[0;34m)\u001b[0m\u001b[0;34m\u001b[0m\u001b[0;34m\u001b[0m\u001b[0m\n\u001b[0m",
      "\u001b[0;32m~/td2c/src/d2c/benchmark/base.py\u001b[0m in \u001b[0;36mrun\u001b[0;34m(self)\u001b[0m\n\u001b[1;32m     46\u001b[0m         \u001b[0;32mif\u001b[0m \u001b[0mself\u001b[0m\u001b[0;34m.\u001b[0m\u001b[0mn_jobs\u001b[0m \u001b[0;34m==\u001b[0m \u001b[0;36m1\u001b[0m\u001b[0;34m:\u001b[0m\u001b[0;34m\u001b[0m\u001b[0;34m\u001b[0m\u001b[0m\n\u001b[1;32m     47\u001b[0m             \u001b[0;32mfor\u001b[0m \u001b[0mts_index\u001b[0m\u001b[0;34m,\u001b[0m \u001b[0mts\u001b[0m \u001b[0;32min\u001b[0m \u001b[0mts_tuples\u001b[0m\u001b[0;34m:\u001b[0m\u001b[0;34m\u001b[0m\u001b[0;34m\u001b[0m\u001b[0m\n\u001b[0;32m---> 48\u001b[0;31m                 \u001b[0m_\u001b[0m\u001b[0;34m,\u001b[0m \u001b[0mcausal_df\u001b[0m \u001b[0;34m=\u001b[0m \u001b[0mself\u001b[0m\u001b[0;34m.\u001b[0m\u001b[0mprocess_ts\u001b[0m\u001b[0;34m(\u001b[0m\u001b[0;34m(\u001b[0m\u001b[0mts_index\u001b[0m\u001b[0;34m,\u001b[0m \u001b[0mts\u001b[0m\u001b[0;34m)\u001b[0m\u001b[0;34m)\u001b[0m\u001b[0;34m\u001b[0m\u001b[0;34m\u001b[0m\u001b[0m\n\u001b[0m\u001b[1;32m     49\u001b[0m                 \u001b[0mself\u001b[0m\u001b[0;34m.\u001b[0m\u001b[0mcausal_dfs\u001b[0m\u001b[0;34m[\u001b[0m\u001b[0mts_index\u001b[0m\u001b[0;34m]\u001b[0m \u001b[0;34m=\u001b[0m \u001b[0mcausal_df\u001b[0m\u001b[0;34m\u001b[0m\u001b[0;34m\u001b[0m\u001b[0m\n\u001b[1;32m     50\u001b[0m         \u001b[0;32melse\u001b[0m\u001b[0;34m:\u001b[0m\u001b[0;34m\u001b[0m\u001b[0;34m\u001b[0m\u001b[0m\n",
      "\u001b[0;32m~/td2c/src/d2c/benchmark/base.py\u001b[0m in \u001b[0;36mprocess_ts\u001b[0;34m(self, ts_tuple)\u001b[0m\n\u001b[1;32m     37\u001b[0m     \u001b[0;32mdef\u001b[0m \u001b[0mprocess_ts\u001b[0m\u001b[0;34m(\u001b[0m\u001b[0mself\u001b[0m\u001b[0;34m,\u001b[0m \u001b[0mts_tuple\u001b[0m\u001b[0;34m)\u001b[0m\u001b[0;34m:\u001b[0m\u001b[0;34m\u001b[0m\u001b[0;34m\u001b[0m\u001b[0m\n\u001b[1;32m     38\u001b[0m         \u001b[0mts_index\u001b[0m\u001b[0;34m,\u001b[0m \u001b[0mts\u001b[0m \u001b[0;34m=\u001b[0m \u001b[0mts_tuple\u001b[0m\u001b[0;34m\u001b[0m\u001b[0;34m\u001b[0m\u001b[0m\n\u001b[0;32m---> 39\u001b[0;31m         \u001b[0mresults\u001b[0m \u001b[0;34m=\u001b[0m \u001b[0mself\u001b[0m\u001b[0;34m.\u001b[0m\u001b[0minfer\u001b[0m\u001b[0;34m(\u001b[0m\u001b[0mts\u001b[0m\u001b[0;34m,\u001b[0m \u001b[0mts_index\u001b[0m\u001b[0;34m=\u001b[0m\u001b[0mts_index\u001b[0m\u001b[0;34m)\u001b[0m\u001b[0;34m\u001b[0m\u001b[0;34m\u001b[0m\u001b[0m\n\u001b[0m\u001b[1;32m     40\u001b[0m         \u001b[0mcausal_df\u001b[0m \u001b[0;34m=\u001b[0m \u001b[0mself\u001b[0m\u001b[0;34m.\u001b[0m\u001b[0mbuild_causal_df\u001b[0m\u001b[0;34m(\u001b[0m\u001b[0mresults\u001b[0m\u001b[0;34m,\u001b[0m \u001b[0mts\u001b[0m\u001b[0;34m.\u001b[0m\u001b[0mshape\u001b[0m\u001b[0;34m[\u001b[0m\u001b[0;36m1\u001b[0m\u001b[0;34m]\u001b[0m\u001b[0;34m)\u001b[0m\u001b[0;34m\u001b[0m\u001b[0;34m\u001b[0m\u001b[0m\n\u001b[1;32m     41\u001b[0m         \u001b[0;32mreturn\u001b[0m \u001b[0mts_index\u001b[0m\u001b[0;34m,\u001b[0m \u001b[0mcausal_df\u001b[0m\u001b[0;34m\u001b[0m\u001b[0;34m\u001b[0m\u001b[0m\n",
      "\u001b[0;32m~/td2c/src/d2c/benchmark/d2c_wrapper.py\u001b[0m in \u001b[0;36minfer\u001b[0;34m(self, single_ts, **kwargs)\u001b[0m\n\u001b[1;32m     80\u001b[0m                     mb_estimator=self.mb_estimator)\n\u001b[1;32m     81\u001b[0m \u001b[0;34m\u001b[0m\u001b[0m\n\u001b[0;32m---> 82\u001b[0;31m         \u001b[0mdescriptors\u001b[0m \u001b[0;34m=\u001b[0m \u001b[0md2c\u001b[0m\u001b[0;34m.\u001b[0m\u001b[0mcompute_descriptors_without_dag\u001b[0m\u001b[0;34m(\u001b[0m\u001b[0mn_variables\u001b[0m\u001b[0;34m=\u001b[0m\u001b[0mself\u001b[0m\u001b[0;34m.\u001b[0m\u001b[0mn_variables\u001b[0m\u001b[0;34m,\u001b[0m\u001b[0mmaxlags\u001b[0m\u001b[0;34m=\u001b[0m\u001b[0mself\u001b[0m\u001b[0;34m.\u001b[0m\u001b[0mmaxlags\u001b[0m\u001b[0;34m)\u001b[0m\u001b[0;34m\u001b[0m\u001b[0;34m\u001b[0m\u001b[0m\n\u001b[0m\u001b[1;32m     83\u001b[0m \u001b[0;34m\u001b[0m\u001b[0m\n\u001b[1;32m     84\u001b[0m         \u001b[0mdescriptors\u001b[0m \u001b[0;34m=\u001b[0m \u001b[0mpd\u001b[0m\u001b[0;34m.\u001b[0m\u001b[0mDataFrame\u001b[0m\u001b[0;34m(\u001b[0m\u001b[0mdescriptors\u001b[0m\u001b[0;34m)\u001b[0m\u001b[0;34m\u001b[0m\u001b[0;34m\u001b[0m\u001b[0m\n",
      "\u001b[0;32m~/td2c/src/d2c/descriptors/d2c.py\u001b[0m in \u001b[0;36mcompute_descriptors_without_dag\u001b[0;34m(self, n_variables, maxlags)\u001b[0m\n\u001b[1;32m    116\u001b[0m \u001b[0;34m\u001b[0m\u001b[0m\n\u001b[1;32m    117\u001b[0m         \u001b[0;32mif\u001b[0m \u001b[0mself\u001b[0m\u001b[0;34m.\u001b[0m\u001b[0mn_jobs\u001b[0m \u001b[0;34m==\u001b[0m \u001b[0;36m1\u001b[0m\u001b[0;34m:\u001b[0m\u001b[0;34m\u001b[0m\u001b[0;34m\u001b[0m\u001b[0m\n\u001b[0;32m--> 118\u001b[0;31m             \u001b[0mresults\u001b[0m \u001b[0;34m=\u001b[0m \u001b[0;34m[\u001b[0m\u001b[0mself\u001b[0m\u001b[0;34m.\u001b[0m\u001b[0mcompute_descriptors_for_couple\u001b[0m\u001b[0;34m(\u001b[0m\u001b[0mdag_idx\u001b[0m\u001b[0;34m=\u001b[0m\u001b[0;36m0\u001b[0m\u001b[0;34m,\u001b[0m \u001b[0mca\u001b[0m\u001b[0;34m=\u001b[0m\u001b[0ma\u001b[0m\u001b[0;34m,\u001b[0m \u001b[0mef\u001b[0m\u001b[0;34m=\u001b[0m\u001b[0mb\u001b[0m\u001b[0;34m,\u001b[0m \u001b[0mlabel\u001b[0m\u001b[0;34m=\u001b[0m\u001b[0mnp\u001b[0m\u001b[0;34m.\u001b[0m\u001b[0mnan\u001b[0m\u001b[0;34m)\u001b[0m \u001b[0;32mfor\u001b[0m \u001b[0ma\u001b[0m\u001b[0;34m,\u001b[0m \u001b[0mb\u001b[0m \u001b[0;32min\u001b[0m \u001b[0mall_possible_links\u001b[0m\u001b[0;34m]\u001b[0m\u001b[0;34m\u001b[0m\u001b[0;34m\u001b[0m\u001b[0m\n\u001b[0m\u001b[1;32m    119\u001b[0m \u001b[0;34m\u001b[0m\u001b[0m\n\u001b[1;32m    120\u001b[0m         \u001b[0;32melse\u001b[0m\u001b[0;34m:\u001b[0m\u001b[0;34m\u001b[0m\u001b[0;34m\u001b[0m\u001b[0m\n",
      "\u001b[0;32m~/td2c/src/d2c/descriptors/d2c.py\u001b[0m in \u001b[0;36m<listcomp>\u001b[0;34m(.0)\u001b[0m\n\u001b[1;32m    116\u001b[0m \u001b[0;34m\u001b[0m\u001b[0m\n\u001b[1;32m    117\u001b[0m         \u001b[0;32mif\u001b[0m \u001b[0mself\u001b[0m\u001b[0;34m.\u001b[0m\u001b[0mn_jobs\u001b[0m \u001b[0;34m==\u001b[0m \u001b[0;36m1\u001b[0m\u001b[0;34m:\u001b[0m\u001b[0;34m\u001b[0m\u001b[0;34m\u001b[0m\u001b[0m\n\u001b[0;32m--> 118\u001b[0;31m             \u001b[0mresults\u001b[0m \u001b[0;34m=\u001b[0m \u001b[0;34m[\u001b[0m\u001b[0mself\u001b[0m\u001b[0;34m.\u001b[0m\u001b[0mcompute_descriptors_for_couple\u001b[0m\u001b[0;34m(\u001b[0m\u001b[0mdag_idx\u001b[0m\u001b[0;34m=\u001b[0m\u001b[0;36m0\u001b[0m\u001b[0;34m,\u001b[0m \u001b[0mca\u001b[0m\u001b[0;34m=\u001b[0m\u001b[0ma\u001b[0m\u001b[0;34m,\u001b[0m \u001b[0mef\u001b[0m\u001b[0;34m=\u001b[0m\u001b[0mb\u001b[0m\u001b[0;34m,\u001b[0m \u001b[0mlabel\u001b[0m\u001b[0;34m=\u001b[0m\u001b[0mnp\u001b[0m\u001b[0;34m.\u001b[0m\u001b[0mnan\u001b[0m\u001b[0;34m)\u001b[0m \u001b[0;32mfor\u001b[0m \u001b[0ma\u001b[0m\u001b[0;34m,\u001b[0m \u001b[0mb\u001b[0m \u001b[0;32min\u001b[0m \u001b[0mall_possible_links\u001b[0m\u001b[0;34m]\u001b[0m\u001b[0;34m\u001b[0m\u001b[0;34m\u001b[0m\u001b[0m\n\u001b[0m\u001b[1;32m    119\u001b[0m \u001b[0;34m\u001b[0m\u001b[0m\n\u001b[1;32m    120\u001b[0m         \u001b[0;32melse\u001b[0m\u001b[0;34m:\u001b[0m\u001b[0;34m\u001b[0m\u001b[0;34m\u001b[0m\u001b[0m\n",
      "\u001b[0;32m~/td2c/src/d2c/descriptors/d2c.py\u001b[0m in \u001b[0;36mcompute_descriptors_for_couple\u001b[0;34m(self, dag_idx, ca, ef, label)\u001b[0m\n\u001b[1;32m    289\u001b[0m \u001b[0;34m\u001b[0m\u001b[0m\n\u001b[1;32m    290\u001b[0m         \u001b[0;32mif\u001b[0m \u001b[0mself\u001b[0m\u001b[0;34m.\u001b[0m\u001b[0mmb_estimator\u001b[0m\u001b[0;34m==\u001b[0m\u001b[0;34m'original'\u001b[0m\u001b[0;34m:\u001b[0m\u001b[0;34m\u001b[0m\u001b[0;34m\u001b[0m\u001b[0m\n\u001b[0;32m--> 291\u001b[0;31m             \u001b[0mMBca\u001b[0m \u001b[0;34m=\u001b[0m \u001b[0mself\u001b[0m\u001b[0;34m.\u001b[0m\u001b[0mmarkov_blanket_estimator\u001b[0m\u001b[0;34m.\u001b[0m\u001b[0mestimate\u001b[0m\u001b[0;34m(\u001b[0m\u001b[0mobservations\u001b[0m\u001b[0;34m,\u001b[0m \u001b[0mnode\u001b[0m\u001b[0;34m=\u001b[0m\u001b[0mca\u001b[0m\u001b[0;34m)\u001b[0m\u001b[0;34m\u001b[0m\u001b[0;34m\u001b[0m\u001b[0m\n\u001b[0m\u001b[1;32m    292\u001b[0m             \u001b[0mMBef\u001b[0m \u001b[0;34m=\u001b[0m \u001b[0mself\u001b[0m\u001b[0;34m.\u001b[0m\u001b[0mmarkov_blanket_estimator\u001b[0m\u001b[0;34m.\u001b[0m\u001b[0mestimate\u001b[0m\u001b[0;34m(\u001b[0m\u001b[0mobservations\u001b[0m\u001b[0;34m,\u001b[0m \u001b[0mnode\u001b[0m\u001b[0;34m=\u001b[0m\u001b[0mef\u001b[0m\u001b[0;34m)\u001b[0m\u001b[0;34m\u001b[0m\u001b[0;34m\u001b[0m\u001b[0m\n\u001b[1;32m    293\u001b[0m         \u001b[0;32melif\u001b[0m \u001b[0mself\u001b[0m\u001b[0;34m.\u001b[0m\u001b[0mmb_estimator\u001b[0m\u001b[0;34m==\u001b[0m\u001b[0;34m'ts'\u001b[0m\u001b[0;34m:\u001b[0m\u001b[0;34m\u001b[0m\u001b[0;34m\u001b[0m\u001b[0m\n",
      "\u001b[0;32m~/td2c/src/d2c/descriptors/estimators.py\u001b[0m in \u001b[0;36mestimate\u001b[0;34m(self, dataset, node)\u001b[0m\n\u001b[1;32m     89\u001b[0m         \u001b[0;31m# Exclude the target node from the dataset for ranking\u001b[0m\u001b[0;34m\u001b[0m\u001b[0;34m\u001b[0m\u001b[0;34m\u001b[0m\u001b[0m\n\u001b[1;32m     90\u001b[0m         \u001b[0mX\u001b[0m \u001b[0;34m=\u001b[0m \u001b[0mdataset\u001b[0m\u001b[0;34m[\u001b[0m\u001b[0;34m:\u001b[0m\u001b[0;34m,\u001b[0m \u001b[0mcandidates_positions\u001b[0m\u001b[0;34m]\u001b[0m\u001b[0;34m\u001b[0m\u001b[0;34m\u001b[0m\u001b[0m\n\u001b[0;32m---> 91\u001b[0;31m \u001b[0;34m\u001b[0m\u001b[0m\n\u001b[0m\u001b[1;32m     92\u001b[0m         \u001b[0morder\u001b[0m \u001b[0;34m=\u001b[0m \u001b[0mself\u001b[0m\u001b[0;34m.\u001b[0m\u001b[0mrank_features\u001b[0m\u001b[0;34m(\u001b[0m\u001b[0mX\u001b[0m\u001b[0;34m,\u001b[0m \u001b[0mY\u001b[0m\u001b[0;34m,\u001b[0m \u001b[0mregr\u001b[0m\u001b[0;34m=\u001b[0m\u001b[0;32mFalse\u001b[0m\u001b[0;34m)\u001b[0m\u001b[0;34m\u001b[0m\u001b[0;34m\u001b[0m\u001b[0m\n\u001b[1;32m     93\u001b[0m         \u001b[0msorted_ind\u001b[0m \u001b[0;34m=\u001b[0m \u001b[0mcandidates_positions\u001b[0m\u001b[0;34m[\u001b[0m\u001b[0morder\u001b[0m\u001b[0;34m]\u001b[0m\u001b[0;34m\u001b[0m\u001b[0;34m\u001b[0m\u001b[0m\n",
      "\u001b[0;32m~/td2c/src/d2c/descriptors/estimators.py\u001b[0m in \u001b[0;36mrank_features\u001b[0;34m(self, X, Y, regr)\u001b[0m\n\u001b[1;32m     65\u001b[0m             \u001b[0mimportances\u001b[0m \u001b[0;34m=\u001b[0m \u001b[0mnp\u001b[0m\u001b[0;34m.\u001b[0m\u001b[0mabs\u001b[0m\u001b[0;34m(\u001b[0m\u001b[0mmodel\u001b[0m\u001b[0;34m.\u001b[0m\u001b[0mcoef_\u001b[0m\u001b[0;34m)\u001b[0m\u001b[0;34m\u001b[0m\u001b[0;34m\u001b[0m\u001b[0m\n\u001b[1;32m     66\u001b[0m             \u001b[0mranked_indices\u001b[0m \u001b[0;34m=\u001b[0m \u001b[0mnp\u001b[0m\u001b[0;34m.\u001b[0m\u001b[0margsort\u001b[0m\u001b[0;34m(\u001b[0m\u001b[0mimportances\u001b[0m\u001b[0;34m)\u001b[0m\u001b[0;34m[\u001b[0m\u001b[0;34m:\u001b[0m\u001b[0;34m:\u001b[0m\u001b[0;34m-\u001b[0m\u001b[0;36m1\u001b[0m\u001b[0;34m]\u001b[0m\u001b[0;34m\u001b[0m\u001b[0;34m\u001b[0m\u001b[0m\n\u001b[0;32m---> 67\u001b[0;31m         \u001b[0;32melse\u001b[0m\u001b[0;34m:\u001b[0m\u001b[0;34m\u001b[0m\u001b[0;34m\u001b[0m\u001b[0m\n\u001b[0m\u001b[1;32m     68\u001b[0m             \u001b[0mcorrelations\u001b[0m \u001b[0;34m=\u001b[0m \u001b[0mself\u001b[0m\u001b[0;34m.\u001b[0m\u001b[0mcolumn_based_correlation\u001b[0m\u001b[0;34m(\u001b[0m\u001b[0mX\u001b[0m\u001b[0;34m,\u001b[0m \u001b[0mY\u001b[0m\u001b[0;34m)\u001b[0m\u001b[0;34m\u001b[0m\u001b[0;34m\u001b[0m\u001b[0m\n\u001b[1;32m     69\u001b[0m             \u001b[0mranked_indices\u001b[0m \u001b[0;34m=\u001b[0m \u001b[0mnp\u001b[0m\u001b[0;34m.\u001b[0m\u001b[0margsort\u001b[0m\u001b[0;34m(\u001b[0m\u001b[0mnp\u001b[0m\u001b[0;34m.\u001b[0m\u001b[0mabs\u001b[0m\u001b[0;34m(\u001b[0m\u001b[0mcorrelations\u001b[0m\u001b[0;34m)\u001b[0m\u001b[0;34m)\u001b[0m\u001b[0;34m[\u001b[0m\u001b[0;34m:\u001b[0m\u001b[0;34m:\u001b[0m\u001b[0;34m-\u001b[0m\u001b[0;36m1\u001b[0m\u001b[0;34m]\u001b[0m\u001b[0;34m\u001b[0m\u001b[0;34m\u001b[0m\u001b[0m\n",
      "\u001b[0;32m~/td2c/src/d2c/descriptors/estimators.py\u001b[0m in \u001b[0;36mcolumn_based_correlation\u001b[0;34m(self, X, Y)\u001b[0m\n\u001b[1;32m     42\u001b[0m         \u001b[0;34m-\u001b[0m \u001b[0mnumpy\u001b[0m\u001b[0;34m.\u001b[0m\u001b[0mndarray\u001b[0m\u001b[0;34m:\u001b[0m \u001b[0mAn\u001b[0m \u001b[0marray\u001b[0m \u001b[0mof\u001b[0m \u001b[0mcorrelation\u001b[0m \u001b[0mcoefficients\u001b[0m\u001b[0;34m.\u001b[0m\u001b[0;34m\u001b[0m\u001b[0;34m\u001b[0m\u001b[0m\n\u001b[1;32m     43\u001b[0m         \"\"\"\n\u001b[0;32m---> 44\u001b[0;31m         \u001b[0mcorrelations\u001b[0m \u001b[0;34m=\u001b[0m \u001b[0mnp\u001b[0m\u001b[0;34m.\u001b[0m\u001b[0marray\u001b[0m\u001b[0;34m(\u001b[0m\u001b[0;34m[\u001b[0m\u001b[0mpearsonr\u001b[0m\u001b[0;34m(\u001b[0m\u001b[0mX\u001b[0m\u001b[0;34m[\u001b[0m\u001b[0;34m:\u001b[0m\u001b[0;34m,\u001b[0m \u001b[0mi\u001b[0m\u001b[0;34m]\u001b[0m\u001b[0;34m,\u001b[0m \u001b[0mY\u001b[0m\u001b[0;34m)\u001b[0m\u001b[0;34m[\u001b[0m\u001b[0;36m0\u001b[0m\u001b[0;34m]\u001b[0m \u001b[0;32mfor\u001b[0m \u001b[0mi\u001b[0m \u001b[0;32min\u001b[0m \u001b[0mrange\u001b[0m\u001b[0;34m(\u001b[0m\u001b[0mX\u001b[0m\u001b[0;34m.\u001b[0m\u001b[0mshape\u001b[0m\u001b[0;34m[\u001b[0m\u001b[0;36m1\u001b[0m\u001b[0;34m]\u001b[0m\u001b[0;34m)\u001b[0m\u001b[0;34m]\u001b[0m\u001b[0;34m)\u001b[0m\u001b[0;34m\u001b[0m\u001b[0;34m\u001b[0m\u001b[0m\n\u001b[0m\u001b[1;32m     45\u001b[0m         \u001b[0;32mreturn\u001b[0m \u001b[0mcorrelations\u001b[0m\u001b[0;34m\u001b[0m\u001b[0;34m\u001b[0m\u001b[0m\n\u001b[1;32m     46\u001b[0m \u001b[0;34m\u001b[0m\u001b[0m\n",
      "\u001b[0;32m~/td2c/src/d2c/descriptors/estimators.py\u001b[0m in \u001b[0;36m<listcomp>\u001b[0;34m(.0)\u001b[0m\n\u001b[1;32m     42\u001b[0m         \u001b[0;34m-\u001b[0m \u001b[0mnumpy\u001b[0m\u001b[0;34m.\u001b[0m\u001b[0mndarray\u001b[0m\u001b[0;34m:\u001b[0m \u001b[0mAn\u001b[0m \u001b[0marray\u001b[0m \u001b[0mof\u001b[0m \u001b[0mcorrelation\u001b[0m \u001b[0mcoefficients\u001b[0m\u001b[0;34m.\u001b[0m\u001b[0;34m\u001b[0m\u001b[0;34m\u001b[0m\u001b[0m\n\u001b[1;32m     43\u001b[0m         \"\"\"\n\u001b[0;32m---> 44\u001b[0;31m         \u001b[0mcorrelations\u001b[0m \u001b[0;34m=\u001b[0m \u001b[0mnp\u001b[0m\u001b[0;34m.\u001b[0m\u001b[0marray\u001b[0m\u001b[0;34m(\u001b[0m\u001b[0;34m[\u001b[0m\u001b[0mpearsonr\u001b[0m\u001b[0;34m(\u001b[0m\u001b[0mX\u001b[0m\u001b[0;34m[\u001b[0m\u001b[0;34m:\u001b[0m\u001b[0;34m,\u001b[0m \u001b[0mi\u001b[0m\u001b[0;34m]\u001b[0m\u001b[0;34m,\u001b[0m \u001b[0mY\u001b[0m\u001b[0;34m)\u001b[0m\u001b[0;34m[\u001b[0m\u001b[0;36m0\u001b[0m\u001b[0;34m]\u001b[0m \u001b[0;32mfor\u001b[0m \u001b[0mi\u001b[0m \u001b[0;32min\u001b[0m \u001b[0mrange\u001b[0m\u001b[0;34m(\u001b[0m\u001b[0mX\u001b[0m\u001b[0;34m.\u001b[0m\u001b[0mshape\u001b[0m\u001b[0;34m[\u001b[0m\u001b[0;36m1\u001b[0m\u001b[0;34m]\u001b[0m\u001b[0;34m)\u001b[0m\u001b[0;34m]\u001b[0m\u001b[0;34m)\u001b[0m\u001b[0;34m\u001b[0m\u001b[0;34m\u001b[0m\u001b[0m\n\u001b[0m\u001b[1;32m     45\u001b[0m         \u001b[0;32mreturn\u001b[0m \u001b[0mcorrelations\u001b[0m\u001b[0;34m\u001b[0m\u001b[0;34m\u001b[0m\u001b[0m\n\u001b[1;32m     46\u001b[0m \u001b[0;34m\u001b[0m\u001b[0m\n",
      "\u001b[0;32m~/td2c/myenv/lib/python3.7/site-packages/scipy/stats/stats.py\u001b[0m in \u001b[0;36mpearsonr\u001b[0;34m(x, y)\u001b[0m\n\u001b[1;32m   3904\u001b[0m \u001b[0;34m\u001b[0m\u001b[0m\n\u001b[1;32m   3905\u001b[0m     \u001b[0;32mif\u001b[0m \u001b[0mn\u001b[0m \u001b[0;34m<\u001b[0m \u001b[0;36m2\u001b[0m\u001b[0;34m:\u001b[0m\u001b[0;34m\u001b[0m\u001b[0;34m\u001b[0m\u001b[0m\n\u001b[0;32m-> 3906\u001b[0;31m         \u001b[0;32mraise\u001b[0m \u001b[0mValueError\u001b[0m\u001b[0;34m(\u001b[0m\u001b[0;34m'x and y must have length at least 2.'\u001b[0m\u001b[0;34m)\u001b[0m\u001b[0;34m\u001b[0m\u001b[0;34m\u001b[0m\u001b[0m\n\u001b[0m\u001b[1;32m   3907\u001b[0m \u001b[0;34m\u001b[0m\u001b[0m\n\u001b[1;32m   3908\u001b[0m     \u001b[0mx\u001b[0m \u001b[0;34m=\u001b[0m \u001b[0mnp\u001b[0m\u001b[0;34m.\u001b[0m\u001b[0masarray\u001b[0m\u001b[0;34m(\u001b[0m\u001b[0mx\u001b[0m\u001b[0;34m)\u001b[0m\u001b[0;34m\u001b[0m\u001b[0;34m\u001b[0m\u001b[0m\n",
      "\u001b[0;31mValueError\u001b[0m: x and y must have length at least 2."
     ]
    }
   ],
   "source": [
    "d2cwrapper.run()"
   ]
  },
  {
   "cell_type": "code",
   "execution_count": null,
   "metadata": {},
   "outputs": [],
   "source": [
    "causal_df = d2cwrapper.get_causal_dfs()"
   ]
  }
 ],
 "metadata": {
  "kernelspec": {
   "display_name": "Python 3",
   "language": "python",
   "name": "python3"
  },
  "language_info": {
   "codemirror_mode": {
    "name": "ipython",
    "version": 3
   },
   "file_extension": ".py",
   "mimetype": "text/x-python",
   "name": "python",
   "nbconvert_exporter": "python",
   "pygments_lexer": "ipython3",
   "version": "3.7.12"
  }
 },
 "nbformat": 4,
 "nbformat_minor": 2
}
