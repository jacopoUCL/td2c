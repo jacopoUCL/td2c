{
 "cells": [
  {
   "cell_type": "code",
   "execution_count": 2,
   "metadata": {},
   "outputs": [],
   "source": [
    "import pickle\n",
    "import os\n",
    "import pandas as pd\n",
    "from tqdm import tqdm\n",
    "import numpy as np\n",
    "\n",
    "from sklearn.metrics import accuracy_score, f1_score, precision_score, recall_score, balanced_accuracy_score\n",
    "\n",
    "from d2c.benchmark import D2CWrapper\n",
    "\n",
    "from d2c.descriptors.loader import DataLoader\n",
    "\n",
    "from sklearn.ensemble import RandomForestClassifier\n",
    "from imblearn.ensemble import BalancedRandomForestClassifier\n"
   ]
  },
  {
   "cell_type": "code",
   "execution_count": 5,
   "metadata": {},
   "outputs": [],
   "source": [
    "with open('/home/jpalombarini/td2c/notebooks/contributions/Real_data_validation/model (2).pkl', 'rb') as f:\n",
    "    model = pickle.load(f)"
   ]
  },
  {
   "cell_type": "code",
   "execution_count": 22,
   "metadata": {},
   "outputs": [],
   "source": [
    "names = ['preprocessed_1.txt', 'preprocessed_2.txt']\n",
    "\n",
    "ts_list = [load_data(os.path.join('/home/jpalombarini/td2c/notebooks/contributions/Real_data_validation/useful_data', name)) for name in names]"
   ]
  },
  {
   "cell_type": "code",
   "execution_count": 23,
   "metadata": {},
   "outputs": [
    {
     "name": "stdout",
     "output_type": "stream",
     "text": [
      "preprocessed_1.txt (1320, 12)\n",
      "preprocessed_2.txt (1321, 12)\n"
     ]
    }
   ],
   "source": [
    "ts_dict = dict(zip(names, ts_list))\n",
    "for key, value in ts_dict.items():\n",
    "    print(key, value.shape)\n",
    "\n",
    "# save first dim of each ts in a list named 'maxlags'\n",
    "maxlags = [ts.shape[0] for ts in ts_list]\n",
    "\n",
    "# save second dim of each ts in a list named 'n_variables'\n",
    "n_variables = [ts.shape[1] for ts in ts_list]\n"
   ]
  },
  {
   "cell_type": "code",
   "execution_count": 24,
   "metadata": {},
   "outputs": [],
   "source": [
    "d2cwrapper = D2CWrapper(ts_list=ts_list, \n",
    "                        n_variables=n_variables[0], \n",
    "                        model=model, \n",
    "                        maxlags=maxlags[0], \n",
    "                        n_jobs=1, \n",
    "                        full=True, \n",
    "                        quantiles=True,\n",
    "                        filename='d2c_results',\n",
    "                        normalize=True, \n",
    "                        cmi='original', \n",
    "                        mb_estimator='original')\n",
    "\n"
   ]
  },
  {
   "cell_type": "code",
   "execution_count": 26,
   "metadata": {},
   "outputs": [],
   "source": [
    "d2cwrapper.run()"
   ]
  },
  {
   "cell_type": "code",
   "execution_count": null,
   "metadata": {},
   "outputs": [],
   "source": [
    "causal_df = d2cwrapper.get_causal_dfs()"
   ]
  }
 ],
 "metadata": {
  "kernelspec": {
   "display_name": "Python 3",
   "language": "python",
   "name": "python3"
  },
  "language_info": {
   "codemirror_mode": {
    "name": "ipython",
    "version": 3
   },
   "file_extension": ".py",
   "mimetype": "text/x-python",
   "name": "python",
   "nbconvert_exporter": "python",
   "pygments_lexer": "ipython3",
   "version": "3.7.12"
  }
 },
 "nbformat": 4,
 "nbformat_minor": 2
}
