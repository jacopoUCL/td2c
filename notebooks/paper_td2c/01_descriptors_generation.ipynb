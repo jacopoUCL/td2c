{
 "cells": [
  {
   "cell_type": "markdown",
   "metadata": {},
   "source": [
    "This Jupyter notebook is centered on calculating and storing descriptors for time series data using the `D2C` class from the `d2c.descriptors` module. It works with previously generated data stored in a directory and processes each file to extract time series descriptors. The notebook employs the Python libraries pandas and tqdm to manage and monitor data operations.\n",
    "\n",
    "### Breakdown of the Notebook:\n",
    "\n",
    "1. **Setup and Imports:**\n",
    "   - Essential libraries like `pickle`, `os`, `pandas`, and `tqdm` are imported. Additionally, `D2C` and `DataLoader` from the `d2c.descriptors` module are used for processing the data.\n",
    "   - Constants such as `N_JOBS` (number of parallel jobs), `SEED`, `MB_SIZE` (Markov blanket size), `COUPLES_TO_CONSIDER_PER_DAG`, and `maxlags` are defined for the descriptor calculations.\n",
    "\n",
    "2. **Processing Each Data File:**\n",
    "   - The notebook iterates over each file in the sorted order from the data directory. For each file, it extracts metadata like process number, number of variables, neighborhood size, and noise standard deviation from the filename.\n",
    "   - A `DataLoader` instance is created and used to load the data from the respective file. The loaded data includes observations and DAGs (directed acyclic graphs) which represent the time series data and its underlying relationships.\n",
    "\n",
    "3. **Descriptor Calculation:**\n",
    "   - The `D2C` (Data to Causality) object is initialized with the loaded data and the predefined settings (like seed, number of jobs, etc.). The initialization prepares the framework for descriptor calculations.\n",
    "   - Descriptors are computed for the data, which involves statistical and causal analysis to derive meaningful metrics that describe the interactions and dependencies within the data.\n",
    "\n",
    "4. **Saving the Descriptors:**\n",
    "   - The resulting dataframe containing descriptors is augmented with metadata columns indicating the process ID, number of variables, neighborhood size, and noise standard deviation.\n",
    "   - The dataframe is then saved as a pickle file in a designated directory for descriptors. Each file is named systematically to reflect the configuration of the data it describes.\n",
    "\n",
    "### Key Features:\n",
    "- **Efficient Data Handling:** The notebook effectively handles large datasets by iterating through files and processing them individually, making efficient use of computational resources.\n",
    "- **Progress Monitoring:** Integration of `tqdm` provides a progress bar for tracking the completion of processing across multiple files.\n",
    "- **Detailed Metadata Management:** Metadata from filenames is used to annotate the descriptor results, ensuring that each output file is traceable back to its input conditions.\n",
    "\n",
    "This notebook automates the computation of detailed descriptors for time series datasets, providing a scalable solution for analyzing large volumes of data in a structured and reproducible manner."
   ]
  },
  {
   "cell_type": "markdown",
   "metadata": {},
   "source": [
    "This notebook generates the training descriptors. \n",
    "For each file; only a subset of 300 couples of variables are chosen, according to the following logic\n",
    "\n",
    "- 100 causal couples: A selection of 20 pairs of variables that are causally related according to the DAG. These serve as positive examples.\n",
    "- 100 opposite couples: For each of the causal couples selected, the corresponding opposite pair (effect as cause and cause as effect) is also chosen. These pairs, despite being theoretically informative, do not respect the temporal ordering and thus they won't appear in the results returned by competitor methods. For this reason, they will be excluded from the evaluation phase later on, although they will remain in the training set of our classifier.\n",
    "- 100 additional noncausal couples: To compensate for the exclusion of the opposite couples in validation and ensure a balanced dataset. Unlike the opposite ones, these pairs are chosen based on their lack of causal connection in the DAG and are more likely to resemble noncausal relationships encountered in real-world scenarios."
   ]
  },
  {
   "cell_type": "code",
   "execution_count": 1,
   "metadata": {},
   "outputs": [],
   "source": [
    "import pickle \n",
    "import os\n",
    "import pandas as pd\n",
    "from d2c.descriptors import D2C, DataLoader\n",
    "from tqdm import tqdm"
   ]
  },
  {
   "cell_type": "code",
   "execution_count": 2,
   "metadata": {},
   "outputs": [],
   "source": [
    "N_JOBS = 40 # number of jobs to run in parallel. For D2C, parallelism is implemented at the observation level: each observation from a single file is processed in parallel\n",
    "SEED = 42 # random seed for reproducibility\n",
    "MB_SIZE = 5 # size to consider when estimating the markov blanket. This is only useful if the MB is actually estimated\n",
    "COUPLES_TO_CONSIDER_PER_DAG = -1 # edges that are considered in total to compute descriptors, for each TS. This can speed up the process. If set to -1, all possible edges are considered\n",
    "maxlags = 5 # maximum lags to consider when considering variable couples"
   ]
  },
  {
   "cell_type": "markdown",
   "metadata": {},
   "source": [
    "For which files do we want to compute our descriptors? We choose the ones with fixed `noise_std == 0.01`and fixed `max neighbordhood size==2`"
   ]
  },
  {
   "cell_type": "code",
   "execution_count": 6,
   "metadata": {},
   "outputs": [],
   "source": [
    "input_folder = '/home/jpalombarini/td2c/notebooks/contributions/Real_data_validation/useful_data/'\n",
    "\n",
    "to_process = []\n",
    "for file in sorted(os.listdir(input_folder)):\n",
    "    gen_process_number = int(file.split('_')[0][1:])\n",
    "    n_variables = int(file.split('_')[1][1:])\n",
    "    max_neighborhood_size = int(file.split('_')[2][2:])\n",
    "    noise_std = float(file.split('_')[3][1:-4])\n",
    "\n",
    "    if noise_std != 0.01:\n",
    "        continue\n",
    "    \n",
    "    if max_neighborhood_size != 2:\n",
    "        continue\n",
    "\n",
    "    # if n_variables != 5:\n",
    "    #     continue\n",
    "\n",
    "    to_process.append(file)"
   ]
  },
  {
   "cell_type": "markdown",
   "metadata": {},
   "source": [
    "Now we use the D2C method to compute the descriptors. <br>\n",
    "We use `mb_estimator='ts'` to select the past and future values of the considered variable as its Markov Blanket <br>\n",
    "We use `cmi='original'` to estimate conditional mutual information as in (Bontempi et al, 2015) <br>\n"
   ]
  },
  {
   "cell_type": "code",
   "execution_count": 7,
   "metadata": {},
   "outputs": [
    {
     "name": "stderr",
     "output_type": "stream",
     "text": [
      "  0%|          | 0/3 [00:00<?, ?it/s]"
     ]
    },
    {
     "name": "stderr",
     "output_type": "stream",
     "text": [
      "100%|██████████| 3/3 [00:27<00:00,  9.04s/it]\n"
     ]
    }
   ],
   "source": [
    "# ETA 2h with 40 jobs!!\n",
    "\n",
    "output_folder = '/home/jpalombarini/td2c/notebooks/paper_td2c/descriptors_ts_original_entropy/'  \n",
    "\n",
    "#create output folder if it does not exist\n",
    "if not os.path.exists(output_folder):\n",
    "    os.makedirs(output_folder)\n",
    "    \n",
    "for file in tqdm(to_process):\n",
    "    gen_process_number = int(file.split('_')[0][1:])\n",
    "    n_variables = int(file.split('_')[1][1:])\n",
    "    max_neighborhood_size = int(file.split('_')[2][2:])\n",
    "    noise_std = float(file.split('_')[3][1:-4])\n",
    "\n",
    "    dataloader = DataLoader(n_variables = n_variables,\n",
    "                    maxlags = maxlags)\n",
    "    dataloader.from_pickle(input_folder+file)\n",
    "\n",
    "    d2c = D2C(observations=dataloader.get_observations(), \n",
    "            dags=dataloader.get_dags(), \n",
    "            couples_to_consider_per_dag=COUPLES_TO_CONSIDER_PER_DAG, \n",
    "            MB_size=MB_SIZE, \n",
    "            n_variables=n_variables, \n",
    "            maxlags=maxlags,\n",
    "            seed=SEED,\n",
    "            n_jobs=N_JOBS,\n",
    "            full=True,\n",
    "            quantiles=True,\n",
    "            normalize=True,\n",
    "            cmi='original',\n",
    "            mb_estimator='ts')\n",
    "\n",
    "    d2c.initialize()\n",
    "\n",
    "    descriptors_df = d2c.get_descriptors_df()\n",
    "\n",
    "    descriptors_df.insert(0, 'process_id', gen_process_number)\n",
    "    descriptors_df.insert(2, 'n_variables', n_variables)\n",
    "    descriptors_df.insert(3, 'max_neighborhood_size', max_neighborhood_size)\n",
    "    descriptors_df.insert(4, 'noise_std', noise_std)\n",
    "\n",
    "    descriptors_df.to_pickle(output_folder+f'P{gen_process_number}_N{n_variables}_Nj{max_neighborhood_size}_n{noise_std}_MB{MB_SIZE}.pkl')"
   ]
  },
  {
   "cell_type": "markdown",
   "metadata": {},
   "source": [
    "Now we use `mb_estimator='ts'` to select the past and future values of the considered variable as its Markov Blanket <br>\n",
    "We use `cmi='cmiknn'` to estimate conditional mutual information with knncmi <br>"
   ]
  },
  {
   "cell_type": "code",
   "execution_count": 7,
   "metadata": {},
   "outputs": [
    {
     "name": "stdout",
     "output_type": "stream",
     "text": [
      "\u001b[31mERROR: Could not find a version that satisfies the requirement knncmi (from versions: none)\u001b[0m\u001b[31m\n",
      "\u001b[0m\u001b[31mERROR: No matching distribution found for knncmi\u001b[0m\u001b[31m\n",
      "\u001b[0m"
     ]
    }
   ],
   "source": [
    "# for this step it's required to clone the knncmi repository and install it\n",
    "#\n",
    "# git clone https://github.com/omesner/knncmi.git\n",
    "# cd knncmi\n",
    "# pip install ."
   ]
  },
  {
   "cell_type": "code",
   "execution_count": 8,
   "metadata": {},
   "outputs": [
    {
     "data": {
      "text/plain": [
       "['P1_N5_Nj2_n0.01.pkl', 'P2_N5_Nj2_n0.01.pkl', 'P3_N5_Nj2_n0.01.pkl']"
      ]
     },
     "execution_count": 8,
     "metadata": {},
     "output_type": "execute_result"
    }
   ],
   "source": [
    "to_process"
   ]
  },
  {
   "cell_type": "code",
   "execution_count": 9,
   "metadata": {},
   "outputs": [],
   "source": [
    "output_folder = '/home/jpalombarini/td2c/notebooks/paper_td2c/descriptors_ts_cmiknn_entropy/'  \n",
    "\n",
    "#create output folder if it does not exist\n",
    "if not os.path.exists(output_folder):\n",
    "    os.makedirs(output_folder)\n",
    "\n",
    "# remove already processed files\n",
    "to_process_copy = to_process.copy()\n",
    "for file in os.listdir(output_folder):\n",
    "    name = file[:-8]+file[-4:]\n",
    "    if name in to_process_copy:\n",
    "        to_process.remove(name)"
   ]
  },
  {
   "cell_type": "code",
   "execution_count": 12,
   "metadata": {},
   "outputs": [
    {
     "name": "stderr",
     "output_type": "stream",
     "text": [
      "100%|██████████| 54/54 [19:17:00<00:00, 1285.57s/it]   \n"
     ]
    }
   ],
   "source": [
    "for file in tqdm(to_process):\n",
    "    gen_process_number = int(file.split('_')[0][1:])\n",
    "    n_variables = int(file.split('_')[1][1:])\n",
    "    max_neighborhood_size = int(file.split('_')[2][2:])\n",
    "    noise_std = float(file.split('_')[3][1:-4])\n",
    "\n",
    "    dataloader = DataLoader(n_variables = n_variables,\n",
    "                    maxlags = maxlags)\n",
    "    dataloader.from_pickle(input_folder+file)\n",
    "\n",
    "    d2c = D2C(observations=dataloader.get_observations(), \n",
    "            dags=dataloader.get_dags(), \n",
    "            couples_to_consider_per_dag=COUPLES_TO_CONSIDER_PER_DAG, \n",
    "            MB_size=MB_SIZE, \n",
    "            n_variables=n_variables, \n",
    "            maxlags=maxlags,\n",
    "            seed=SEED,\n",
    "            n_jobs=N_JOBS,\n",
    "            full=True,\n",
    "            quantiles=True,\n",
    "            normalize=True,\n",
    "            cmi='cmiknn_3',\n",
    "            mb_estimator='ts')\n",
    "\n",
    "    d2c.initialize()\n",
    "\n",
    "    descriptors_df = d2c.get_descriptors_df()\n",
    "\n",
    "    descriptors_df.insert(0, 'process_id', gen_process_number)\n",
    "    descriptors_df.insert(2, 'n_variables', n_variables)\n",
    "    descriptors_df.insert(3, 'max_neighborhood_size', max_neighborhood_size)\n",
    "    descriptors_df.insert(4, 'noise_std', noise_std)\n",
    "\n",
    "    descriptors_df.to_pickle(output_folder+f'P{gen_process_number}_N{n_variables}_Nj{max_neighborhood_size}_n{noise_std}_MB{MB_SIZE}.pkl')"
   ]
  },
  {
   "cell_type": "code",
   "execution_count": 26,
   "metadata": {},
   "outputs": [],
   "source": [
    "descriptors = {}\n",
    "# for output_folder in ['./descriptors_original_full/','./descriptors_cmiknn_full/','./descriptors_cmiknn_full_k5/','./descriptors_cmiknn_full_k15/']:\n",
    "for single_output_folder in [output_folder]:\n",
    "    dfs = []\n",
    "    for file in os.listdir(single_output_folder):\n",
    "        df = pd.read_pickle(single_output_folder+file)\n",
    "        dfs.append(df)\n",
    "    descriptors[single_output_folder] = pd.concat(dfs)"
   ]
  },
  {
   "cell_type": "code",
   "execution_count": 6,
   "metadata": {},
   "outputs": [
    {
     "data": {
      "text/plain": [
       "Index(['process_id', 'graph_id', 'n_variables', 'max_neighborhood_size',\n",
       "       'noise_std', 'edge_source', 'edge_dest', 'is_causal', 'coeff_cause',\n",
       "       'coeff_eff', 'HOC_3_1', 'HOC_1_2', 'HOC_2_1', 'HOC_1_3', 'kurtosis_ca',\n",
       "       'kurtosis_ef', 'mca_mef_cau_mean', 'mca_mef_cau_std',\n",
       "       'mca_mef_eff_mean', 'mca_mef_eff_std', 'cau_m_eff_mean',\n",
       "       'cau_m_eff_std', 'eff_m_cau_mean', 'eff_m_cau_std'],\n",
       "      dtype='object')"
      ]
     },
     "execution_count": 6,
     "metadata": {},
     "output_type": "execute_result"
    }
   ],
   "source": [
    "descriptors[single_output_folder].columns"
   ]
  },
  {
   "cell_type": "code",
   "execution_count": 13,
   "metadata": {},
   "outputs": [],
   "source": [
    "from sklearn.ensemble import RandomForestClassifier\n",
    "from sklearn.metrics import roc_auc_score\n",
    "\n",
    "def perform_lopo_cv(descriptors_df):\n",
    "    roc_aucs = {}\n",
    "    for process_id in descriptors_df['process_id'].unique():\n",
    "        df_test = descriptors_df[descriptors_df['process_id'] == process_id]\n",
    "        df_train = descriptors_df[descriptors_df['process_id'] != process_id]\n",
    "\n",
    "        X_train = df_train.drop(columns=['process_id','graph_id','n_variables','max_neighborhood_size','noise_std','edge_source','edge_dest','is_causal'])\n",
    "        y_train = df_train['is_causal']\n",
    "\n",
    "        X_test = df_test.drop(columns=['process_id','graph_id','n_variables','max_neighborhood_size','noise_std','edge_source','edge_dest','is_causal'])\n",
    "        y_test = df_test['is_causal']\n",
    "\n",
    "        clf = RandomForestClassifier(n_estimators=50, random_state=42, n_jobs=50, max_depth=None)\n",
    "        clf.fit(X_train, y_train)\n",
    "        y_pred = clf.predict(X_test)\n",
    "        y_pred_proba = clf.predict_proba(X_test)[:,1]\n",
    "\n",
    "        roc_auc = roc_auc_score(y_test, y_pred_proba)\n",
    "        roc_aucs[process_id] = roc_auc\n",
    "    return roc_aucs\n",
    "\n",
    "\n",
    "# rocs = {}\n",
    "# for key in descriptors.keys():\n",
    "#     rocs[key] = perform_lopo_cv(descriptors[key])"
   ]
  },
  {
   "cell_type": "code",
   "execution_count": 27,
   "metadata": {},
   "outputs": [
    {
     "data": {
      "text/plain": [
       "{7: 0.7346496295454545,\n",
       " 9: 0.9999999958721312,\n",
       " 8: 0.8800420282183986,\n",
       " 13: 0.9304790771376101,\n",
       " 15: 1.0,\n",
       " 12: 1.0,\n",
       " 6: 0.8345700080734272,\n",
       " 3: 0.7262348246739156,\n",
       " 14: 0.9619633094025584,\n",
       " 18: 1.0,\n",
       " 4: 0.7395588499544496,\n",
       " 16: 0.9675956156500126,\n",
       " 11: 0.916826456185331,\n",
       " 2: 0.6362998744369714,\n",
       " 19: 0.7526449394738874,\n",
       " 20: 0.9548300895065012,\n",
       " 1: 0.7902834331357759,\n",
       " 10: 0.5495065550212876}"
      ]
     },
     "execution_count": 27,
     "metadata": {},
     "output_type": "execute_result"
    }
   ],
   "source": [
    "#original mi, ts mb, less nj, a lot of couples \n",
    "perform_lopo_cv(descriptors[single_output_folder])\n"
   ]
  },
  {
   "cell_type": "code",
   "execution_count": 20,
   "metadata": {},
   "outputs": [
    {
     "data": {
      "text/plain": [
       "{13: 0.7718036458333334,\n",
       " 9: 1.0,\n",
       " 12: 1.0,\n",
       " 15: 1.0,\n",
       " 14: 0.889893576388889,\n",
       " 7: 0.6795383680555556,\n",
       " 20: 0.9708732638888888,\n",
       " 2: 0.6144020833333333,\n",
       " 11: 0.8296592013888888,\n",
       " 19: 0.6974333333333332,\n",
       " 1: 0.7514527777777777,\n",
       " 18: 0.9999991319444445,\n",
       " 6: 0.6110276041666667,\n",
       " 3: 0.5078734375,\n",
       " 8: 0.7127239583333332,\n",
       " 10: 0.5244668402777777,\n",
       " 4: 0.7756659722222223,\n",
       " 16: 0.6832965277777777}"
      ]
     },
     "execution_count": 20,
     "metadata": {},
     "output_type": "execute_result"
    }
   ],
   "source": [
    "#original mi, original mb, less nj\n",
    "perform_lopo_cv(descriptors[single_output_folder])\n"
   ]
  },
  {
   "cell_type": "code",
   "execution_count": 17,
   "metadata": {},
   "outputs": [
    {
     "data": {
      "text/plain": [
       "{13: 0.6948508680555556,\n",
       " 3: 0.6176138888888889,\n",
       " 16: 0.7191489583333334,\n",
       " 11: 0.7411104166666668,\n",
       " 19: 0.7364805555555554,\n",
       " 14: 0.8402123263888889,\n",
       " 7: 0.6366961805555554,\n",
       " 4: 0.8018161458333334,\n",
       " 9: 0.9999999999999999,\n",
       " 20: 0.9368296875000001,\n",
       " 10: 0.5418685763888889,\n",
       " 15: 1.0,\n",
       " 2: 0.6076519097222223,\n",
       " 8: 0.7344494791666666,\n",
       " 12: 1.0,\n",
       " 18: 1.0,\n",
       " 6: 0.6363486111111111,\n",
       " 1: 0.8071034722222222}"
      ]
     },
     "execution_count": 17,
     "metadata": {},
     "output_type": "execute_result"
    }
   ],
   "source": [
    "#original mi, original mb\n",
    "perform_lopo_cv(descriptors[single_output_folder])\n"
   ]
  },
  {
   "cell_type": "code",
   "execution_count": 14,
   "metadata": {},
   "outputs": [
    {
     "data": {
      "text/plain": [
       "{13: 0.8103199652777778,\n",
       " 3: 0.7398005208333333,\n",
       " 16: 0.8355258680555555,\n",
       " 11: 0.8375675347222221,\n",
       " 19: 0.8776675347222221,\n",
       " 14: 0.9259642361111111,\n",
       " 7: 0.8322111111111112,\n",
       " 4: 0.7573314236111112,\n",
       " 9: 1.0,\n",
       " 20: 0.9328362847222222,\n",
       " 10: 0.7239371527777777,\n",
       " 15: 1.0,\n",
       " 2: 0.7994038194444445,\n",
       " 8: 0.8203859375,\n",
       " 12: 1.0,\n",
       " 18: 1.0,\n",
       " 6: 0.7511479166666667,\n",
       " 1: 0.7230802083333334}"
      ]
     },
     "execution_count": 14,
     "metadata": {},
     "output_type": "execute_result"
    }
   ],
   "source": [
    "#cmiknn, original mb\n",
    "perform_lopo_cv(descriptors[single_output_folder])\n"
   ]
  },
  {
   "cell_type": "code",
   "execution_count": 8,
   "metadata": {},
   "outputs": [
    {
     "data": {
      "text/plain": [
       "{13: 0.9126338541666668,\n",
       " 3: 0.8677062065972223,\n",
       " 16: 0.9743615885416667,\n",
       " 11: 0.9687279513888889,\n",
       " 19: 0.9536565104166665,\n",
       " 14: 0.9889696180555555,\n",
       " 7: 0.9126082899305556,\n",
       " 4: 0.8582493489583334,\n",
       " 9: 1.0,\n",
       " 20: 0.9643254439621667,\n",
       " 10: 0.9536603732638889,\n",
       " 15: 1.0,\n",
       " 2: 0.9014126302083333,\n",
       " 8: 0.9321898003472222,\n",
       " 12: 1.0,\n",
       " 18: 0.9999999999999999,\n",
       " 6: 0.9106546875,\n",
       " 1: 0.8719641059027778}"
      ]
     },
     "execution_count": 8,
     "metadata": {},
     "output_type": "execute_result"
    }
   ],
   "source": [
    "#cmiknn, tsmb\n",
    "perform_lopo_cv(descriptors[single_output_folder])\n"
   ]
  },
  {
   "cell_type": "code",
   "execution_count": 5,
   "metadata": {},
   "outputs": [
    {
     "data": {
      "text/plain": [
       "{13: 0.912269357638889,\n",
       " 3: 0.8691461805555556,\n",
       " 16: 0.9755399305555555,\n",
       " 11: 0.9684934461805556,\n",
       " 19: 0.952733767361111,\n",
       " 14: 0.9882985243055555,\n",
       " 7: 0.9147229600694445,\n",
       " 4: 0.8650696614583333,\n",
       " 9: 1.0,\n",
       " 20: 0.9665616582002423,\n",
       " 10: 0.9543126736111112,\n",
       " 15: 1.0,\n",
       " 2: 0.9110377170138889,\n",
       " 8: 0.9319425347222222,\n",
       " 12: 1.0,\n",
       " 18: 1.0,\n",
       " 6: 0.9101961371527778,\n",
       " 1: 0.8719449652777779}"
      ]
     },
     "execution_count": 5,
     "metadata": {},
     "output_type": "execute_result"
    }
   ],
   "source": [
    "perform_lopo_cv(descriptors['./descriptors_cmiknn_full_k3_mbts_MEDIUM_c60_notfull_quantiles/'])"
   ]
  },
  {
   "cell_type": "code",
   "execution_count": 10,
   "metadata": {},
   "outputs": [
    {
     "data": {
      "text/plain": [
       "{13: 0.9039194878472223,\n",
       " 3: 0.8529528645833333,\n",
       " 16: 0.9641472222222223,\n",
       " 11: 0.9586094184027776,\n",
       " 19: 0.9442946614583333,\n",
       " 14: 0.9809096354166666,\n",
       " 7: 0.9055210937500001,\n",
       " 4: 0.8454918402777778,\n",
       " 9: 1.0,\n",
       " 20: 0.9131416682103205,\n",
       " 10: 0.9441752604166667,\n",
       " 15: 1.0,\n",
       " 2: 0.8826792534722222,\n",
       " 8: 0.9239776041666667,\n",
       " 12: 1.0,\n",
       " 18: 1.0,\n",
       " 6: 0.9101336805555555,\n",
       " 1: 0.8305375868055556}"
      ]
     },
     "execution_count": 10,
     "metadata": {},
     "output_type": "execute_result"
    }
   ],
   "source": [
    "perform_lopo_cv(descriptors['./descriptors_cmiknn_full_k3_mbts_MEDIUM_c60_notfull_quantiles/'])"
   ]
  },
  {
   "cell_type": "code",
   "execution_count": null,
   "metadata": {},
   "outputs": [],
   "source": [
    "{13: 0.9317180555555555,\n",
    " 3: 0.8845465277777778,\n",
    " 16: 0.9710965277777778,\n",
    " 11: 0.9660762152777778,\n",
    " 19: 0.954526388888889,\n",
    " 14: 0.9804326388888889,\n",
    " 7: 0.9450670138888889,\n",
    " 4: 0.9019128472222222,\n",
    " 9: 1.0,\n",
    " 20: 0.9452003472222222,\n",
    " 10: 0.9563795138888889,\n",
    " 15: 1.0,\n",
    " 2: 0.9165769097222222,\n",
    " 8: 0.9330982638888888,\n",
    " 12: 1.0,\n",
    " 18: 1.0,\n",
    " 6: 0.928396875,\n",
    " 1: 0.9210937499999999}"
   ]
  },
  {
   "cell_type": "code",
   "execution_count": 32,
   "metadata": {},
   "outputs": [
    {
     "data": {
      "image/png": "[encoded data removed]",
      "text/plain": [
       "<Figure size 1000x500 with 1 Axes>"
      ]
     },
     "metadata": {},
     "output_type": "display_data"
    }
   ],
   "source": [
    "#plot results\n",
    "import matplotlib.pyplot as plt\n",
    "import seaborn as sns\n",
    "\n",
    "rocs_df = pd.DataFrame(rocs)\n",
    "\n",
    "plt.figure(figsize=(10,5))\n",
    "sns.boxplot(data=rocs_df)\n",
    "plt.ylabel('ROC AUC')\n",
    "plt.xticks([0,1,2],['Original','Original-MBTS', 'CMIKNN-3-MBTS'])\n",
    "plt.show()\n",
    "\n"
   ]
  },
  {
   "cell_type": "code",
   "execution_count": 10,
   "metadata": {},
   "outputs": [
    {
     "data": {
      "image/png": "[encoded data removed]",
      "text/plain": [
       "<Figure size 1000x500 with 1 Axes>"
      ]
     },
     "metadata": {},
     "output_type": "display_data"
    },
    {
     "data": {
      "image/png": "[encoded data removed]",
      "text/plain": [
       "<Figure size 1000x500 with 1 Axes>"
      ]
     },
     "metadata": {},
     "output_type": "display_data"
    }
   ],
   "source": [
    "#barplot pairwise\n",
    "\n",
    "rocs_df = pd.DataFrame(rocs)\n",
    "rocs_df = rocs_df.T\n",
    "rocs_df = rocs_df.reset_index()\n",
    "rocs_df = rocs_df.melt(id_vars='index')\n",
    "rocs_df.columns = ['process_id','method','roc_auc']\n",
    "\n",
    "plt.figure(figsize=(10,5))\n",
    "sns.barplot(data=rocs_df, x='process_id', y='roc_auc', hue='method')\n",
    "plt.ylabel('ROC AUC')\n",
    "plt.show()\n",
    "\n",
    "# barplot same process_id side by side\n",
    "rocs_df = pd.DataFrame(rocs)\n",
    "rocs_df = rocs_df.T\n",
    "rocs_df = rocs_df.reset_index()\n",
    "rocs_df = rocs_df.melt(id_vars='index')\n",
    "rocs_df.columns = ['process_id','method','roc_auc']\n",
    "\n",
    "plt.figure(figsize=(10,5))\n",
    "sns.barplot(data=rocs_df, x='method', y='roc_auc', hue='process_id')\n",
    "plt.ylabel('ROC AUC')\n",
    "plt.show()\n"
   ]
  },
  {
   "cell_type": "code",
   "execution_count": 64,
   "metadata": {},
   "outputs": [
    {
     "name": "stdout",
     "output_type": "stream",
     "text": [
      "0.9014017089843751\n"
     ]
    }
   ],
   "source": [
    "# Some minor feature importance\n",
    "from imblearn.ensemble import BalancedRandomForestClassifier\n",
    "df = descriptors['./descriptors_cmiknn_full_k3_mbts/']\n",
    "\n",
    "df_train = df[df['process_id'] >= 10]\n",
    "df_test = df[df['process_id'] < 10]\n",
    "\n",
    "X_train = df_train.drop(columns=['process_id', 'graph_id', 'n_variables','max_neighborhood_size','noise_std','edge_source','edge_dest','is_causal'])\n",
    "y_train = df_train['is_causal']\n",
    "\n",
    "X_test = df_test.drop(columns=['process_id', 'graph_id' ,'n_variables','max_neighborhood_size','noise_std','edge_source','edge_dest','is_causal'])\n",
    "y_test = df_test['is_causal']\n",
    "\n",
    "clf = BalancedRandomForestClassifier(n_estimators=50, random_state=42, n_jobs=50, sampling_strategy='all', replacement=True)\n",
    "# clf = RandomForestClassifier(n_estimators=50, random_state=42, n_jobs=50)\n",
    "clf.fit(X_train, y_train)\n",
    "y_pred = clf.predict(X_test)\n",
    "y_pred_proba = clf.predict_proba(X_test)[:,1]\n",
    "\n",
    "roc_auc = roc_auc_score(y_test, y_pred_proba)\n",
    "print(roc_auc)"
   ]
  },
  {
   "cell_type": "code",
   "execution_count": 14,
   "metadata": {},
   "outputs": [],
   "source": [
    "import numpy as np\n",
    "# Some minor feature importance\n",
    "df = descriptors['./descriptors_cmiknn_full_k3_mbts_MEDIUM_c60_notfull/']\n",
    "\n",
    "X = df.drop(columns=['process_id', 'graph_id', 'n_variables','max_neighborhood_size','noise_std','edge_source','edge_dest','is_causal'])\n",
    "y = df['is_causal']\n"
   ]
  },
  {
   "cell_type": "code",
   "execution_count": 15,
   "metadata": {},
   "outputs": [
    {
     "name": "stdout",
     "output_type": "stream",
     "text": [
      "Feature ranking:\n",
      "1. feature mca_mef_eff_q4 (0.04881931165238239)\n",
      "2. feature coeff_eff (0.048697141178605206)\n",
      "3. feature mca_mef_cau_q6 (0.03825532701420078)\n",
      "4. feature mca_mef_cau_q3 (0.036732126196339115)\n",
      "5. feature mca_mef_eff_q5 (0.036568427771140284)\n",
      "6. feature mca_mef_cau_q0 (0.035561596721655125)\n",
      "7. feature mca_mef_eff_q6 (0.03504912096132223)\n",
      "8. feature mca_mef_cau_q4 (0.03438708344607374)\n",
      "9. feature coeff_cause (0.03269187982546781)\n",
      "10. feature mca_mef_cau_q5 (0.031709072919983525)\n",
      "11. feature kurtosis_ef (0.031155723060764032)\n",
      "12. feature mca_mef_eff_q0 (0.03062405427260626)\n",
      "13. feature kurtosis_ca (0.03051001836940786)\n",
      "14. feature cau_m_eff_q6 (0.02954358213892277)\n",
      "15. feature mca_mef_eff_q1 (0.029371573463101416)\n",
      "16. feature mca_mef_cau_q1 (0.02928055894558546)\n",
      "17. feature mca_mef_cau_q2 (0.0279036815176456)\n",
      "18. feature cau_m_eff_q5 (0.027723311853059297)\n",
      "19. feature HOC_3_1 (0.026516829707329794)\n",
      "20. feature HOC_1_3 (0.025586044676101434)\n",
      "21. feature HOC_2_1 (0.023785580495347514)\n",
      "22. feature cau_m_eff_q0 (0.023382398328294255)\n",
      "23. feature HOC_1_2 (0.023332936508885967)\n",
      "24. feature mca_mef_eff_q2 (0.02325192454781462)\n",
      "25. feature eff_m_cau_q1 (0.02321009836583952)\n",
      "26. feature eff_m_cau_q0 (0.02139160802879176)\n",
      "27. feature cau_m_eff_q1 (0.021239946804213244)\n",
      "28. feature cau_m_eff_q3 (0.020857071004774286)\n",
      "29. feature cau_m_eff_q4 (0.02073368585624212)\n",
      "30. feature mca_mef_eff_q3 (0.019769118069933405)\n",
      "31. feature eff_m_cau_q6 (0.01970094661588393)\n",
      "32. feature eff_m_cau_q2 (0.019209787265946673)\n",
      "33. feature cau_m_eff_q2 (0.01908558060583718)\n",
      "34. feature eff_m_cau_q5 (0.018556495076694678)\n",
      "35. feature eff_m_cau_q3 (0.018100168503010855)\n",
      "36. feature eff_m_cau_q4 (0.017706188230795845)\n"
     ]
    }
   ],
   "source": [
    "\n",
    "clf = RandomForestClassifier(n_estimators=50, random_state=42, n_jobs=50, max_depth=None)\n",
    "clf.fit(X, y)\n",
    "\n",
    "importances = clf.feature_importances_\n",
    "indices = np.argsort(importances)[::-1]\n",
    "\n",
    "# Print the feature ranking\n",
    "print(\"Feature ranking:\")\n",
    "for f in range(X.shape[1]):\n",
    "    print(f\"{f+1}. feature {X.columns[indices[f]]} ({importances[indices[f]]})\")\n",
    "\n"
   ]
  },
  {
   "cell_type": "code",
   "execution_count": 16,
   "metadata": {},
   "outputs": [
    {
     "name": "stdout",
     "output_type": "stream",
     "text": [
      "0.7895619642469618\n"
     ]
    }
   ],
   "source": [
    "\n",
    "\n",
    "df_train = df[df['process_id'] >= 10]\n",
    "df_test = df[df['process_id'] < 10]\n",
    "\n",
    "X_train = df_train.drop(columns=['process_id', 'graph_id', 'n_variables','max_neighborhood_size','noise_std','edge_source','edge_dest','is_causal'])\n",
    "y_train = df_train['is_causal']\n",
    "\n",
    "\n",
    "X_test = df_test.drop(columns=['process_id', 'graph_id' ,'n_variables','max_neighborhood_size','noise_std','edge_source','edge_dest','is_causal'])\n",
    "y_test = df_test['is_causal']\n",
    "\n",
    "\n",
    "# clf = BalancedRandomForestClassifier(n_estimators=50, random_state=42, n_jobs=50, sampling_strategy='all', replacement=True)\n",
    "# # clf = RandomForestClassifier(n_estimators=50, random_state=42, n_jobs=50)\n",
    "# clf.fit(X_train, y_train)\n",
    "\n",
    "from sklearn.neural_network import MLPClassifier\n",
    "clf = MLPClassifier(random_state=42, hidden_layer_sizes=(100, 100), max_iter=1000)\n",
    "clf.fit(X_train, y_train)\n",
    "\n",
    "y_pred = clf.predict(X_test)\n",
    "y_pred_proba = clf.predict_proba(X_test)[:,1]\n",
    "\n",
    "roc_auc = roc_auc_score(y_test, y_pred_proba)\n",
    "print(roc_auc)"
   ]
  },
  {
   "cell_type": "code",
   "execution_count": 17,
   "metadata": {},
   "outputs": [
    {
     "name": "stdout",
     "output_type": "stream",
     "text": [
      "Accuracy: 0.7726041666666666\n",
      "Precision: 0.7653966597077244\n",
      "Recall: 0.45828125\n",
      "F1: 0.5732994526974199\n"
     ]
    }
   ],
   "source": [
    "#accuracy and other metrics\n",
    "from sklearn.metrics import accuracy_score, precision_score, recall_score, f1_score\n",
    "\n",
    "accuracy = accuracy_score(y_test, y_pred)\n",
    "precision = precision_score(y_test, y_pred)\n",
    "recall = recall_score(y_test, y_pred)\n",
    "f1 = f1_score(y_test, y_pred)\n",
    "\n",
    "print(f'Accuracy: {accuracy}')\n",
    "print(f'Precision: {precision}')\n",
    "print(f'Recall: {recall}')\n",
    "print(f'F1: {f1}')\n"
   ]
  },
  {
   "cell_type": "code",
   "execution_count": 68,
   "metadata": {},
   "outputs": [
    {
     "data": {
      "text/plain": [
       "Index(['mca_mef_cau_q6', 'mca_mef_cau_q3', 'mca_mef_cau_q4', 'mca_mef_cau_q5',\n",
       "       'mbe_mbe_eff_q5', 'mca_mef_eff_q4', 'mca_mef_cau_q2', 'mbe_mbe_eff_q1',\n",
       "       'mbe_mbe_eff_q0', 'mca_mef_eff_q5', 'mca_mef_eff_q6', 'mbe_mbe_eff_q3',\n",
       "       'mbe_mbe_eff_q4', 'coeff_eff', 'mca_mef_cau_q1', 'mca_mef_eff_q3',\n",
       "       'cau_m_eff_q6', 'cau_m_eff_q5', 'mbe_mbe_eff_q6', 'cau_m_eff_q4',\n",
       "       'mbe_mbe_eff_q2', 'coeff_cause', 'mca_mef_cau_q0', 'kurtosis_ef',\n",
       "       'cau_m_eff_q3', 'kurtosis_ca', 'HOC_1_3', 'HOC_2_1', 'cau_m_eff_q1',\n",
       "       'cau_m_eff_q0', 'mca_mef_eff_q2', 'HOC_1_2', 'HOC_3_1',\n",
       "       'mca_mef_eff_q0', 'eff_m_cau_q5', 'mca_mef_eff_q1', 'eff_m_cau_q2',\n",
       "       'eff_m_cau_q4', 'eff_m_cau_q1', 'cau_m_eff_q2', 'eff_m_cau_q0',\n",
       "       'eff_m_cau_q3', 'eff_m_cau_q6'],\n",
       "      dtype='object')"
      ]
     },
     "execution_count": 68,
     "metadata": {},
     "output_type": "execute_result"
    }
   ],
   "source": [
    "topick"
   ]
  }
 ],
 "metadata": {
  "kernelspec": {
   "display_name": "d2cpy",
   "language": "python",
   "name": "python3"
  },
  "language_info": {
   "codemirror_mode": {
    "name": "ipython",
    "version": 3
   },
   "file_extension": ".py",
   "mimetype": "text/x-python",
   "name": "python",
   "nbconvert_exporter": "python",
   "pygments_lexer": "ipython3",
   "version": "3.7.12"
  }
 },
 "nbformat": 4,
 "nbformat_minor": 2
}
